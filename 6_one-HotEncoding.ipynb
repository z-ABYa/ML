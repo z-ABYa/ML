{
 "cells": [
  {
   "cell_type": "code",
   "execution_count": 11,
   "metadata": {},
   "outputs": [],
   "source": [
    "# One-Hot encoding using OneHotEncoder of Scikit-learn\n",
    "import pandas as pd\n",
    "from sklearn.preprocessing import OneHotEncoder"
   ]
  },
  {
   "cell_type": "code",
   "execution_count": 12,
   "metadata": {},
   "outputs": [
    {
     "name": "stdout",
     "output_type": "stream",
     "text": [
      "Employee Data:\n",
      "   emp_id gender remarks\n",
      "0     101      M    Good\n",
      "1     102      F    Nice\n",
      "2     103      F    Good\n",
      "3     104      M   Great\n",
      "4     105      F    Nice\n"
     ]
    }
   ],
   "source": [
    "# Building a dummy employee dataset for demonstration\n",
    "data = {\n",
    "    'emp_id': [101, 102, 103, 104, 105],\n",
    "    'gender': ['M', 'F', 'F', 'M', 'F'],\n",
    "    'remarks': ['Good', 'Nice', 'Good', 'Great', 'Nice']\n",
    "}\n",
    "# Converting into a pandas DataFrame\n",
    "df = pd.DataFrame(data)\n",
    "\n",
    "# Print the dataFrame:\n",
    "print(f\"Employee Data:\\n{df}\")"
   ]
  },
  {
   "cell_type": "code",
   "execution_count": null,
   "metadata": {},
   "outputs": [
    {
     "name": "stdout",
     "output_type": "stream",
     "text": [
      "Encoded Employee data : \n",
      "   emp_id  gender_F  gender_M  remarks_Good  remarks_Great  remarks_Nice\n",
      "0     101       0.0       1.0           1.0            0.0           0.0\n",
      "1     102       1.0       0.0           0.0            0.0           1.0\n",
      "2     103       1.0       0.0           1.0            0.0           0.0\n",
      "3     104       0.0       1.0           0.0            1.0           0.0\n",
      "4     105       1.0       0.0           0.0            0.0           1.0\n"
     ]
    }
   ],
   "source": [
    "#Extract categorical columns from the dataframe\n",
    "#Here we extract the columns with object datatype as they are the categorical columns\n",
    "categorical_columns = df.select_dtypes(include=['object']).columns.tolist()\n",
    "\n",
    "#Initialize OneHotEncoder|\n",
    "encoder = OneHotEncoder (sparse_output=False)\n",
    "\n",
    "# Apply one-hot encoding to the categorical columns\n",
    "one_hot_encoded = encoder. fit_transform(df [categorical_columns] )\n",
    "\n",
    "#Create a DataFrame with the one-hot encoded columns\n",
    "#We use get_feature_names_out() to get the column names for the encoded data\n",
    "one_hot_df = pd.DataFrame(one_hot_encoded, columns=encoder.get_feature_names_out (categorical_columns))\n",
    "\n",
    "# Concatenate the one-hot encoded dataframe with the original dataframe\n",
    "df_encoded = pd.concat([df, one_hot_df], axis=1)\n",
    "\n",
    "# Drop the original categorical columns\n",
    "df_encoded = df_encoded.drop(categorical_columns, axis=1)\n",
    "\n",
    "# Display the resulting dataframe\n",
    "print (f\"Encoded Employee data : \\n{df_encoded}\")"
   ]
  },
  {
   "cell_type": "code",
   "execution_count": null,
   "metadata": {},
   "outputs": [],
   "source": [
    "### NOW the Data is ready to be FEED into the Machine Learning Model"
   ]
  }
 ],
 "metadata": {
  "kernelspec": {
   "display_name": "Python 3",
   "language": "python",
   "name": "python3"
  },
  "language_info": {
   "codemirror_mode": {
    "name": "ipython",
    "version": 3
   },
   "file_extension": ".py",
   "mimetype": "text/x-python",
   "name": "python",
   "nbconvert_exporter": "python",
   "pygments_lexer": "ipython3",
   "version": "3.12.1"
  }
 },
 "nbformat": 4,
 "nbformat_minor": 2
}
